{
 "cells": [
  {
   "cell_type": "code",
   "execution_count": 172,
   "metadata": {
    "collapsed": true
   },
   "outputs": [],
   "source": [
    "import pandas as pd\n",
    "import numpy as np\n",
    "import seaborn as sns\n",
    "import matplotlib.pyplot as plt\n",
    "from IPython.display import display # Allows the use of display() for DataFrames\n",
    "import visuals as vs\n",
    "import datetime\n",
    "%matplotlib inline"
   ]
  },
  {
   "cell_type": "markdown",
   "metadata": {},
   "source": [
    "# Importing data and Handling missing values"
   ]
  },
  {
   "cell_type": "code",
   "execution_count": 2,
   "metadata": {
    "scrolled": true
   },
   "outputs": [
    {
     "name": "stdout",
     "output_type": "stream",
     "text": [
      "              ORDER   Mailing Zip  Call Disposition\n",
      "count   9998.000000   9998.000000       9998.000000\n",
      "mean    5000.821964  50467.017904          3.331866\n",
      "std     2887.075954  29246.525441          2.022749\n",
      "min        1.000000   1001.000000          1.000000\n",
      "25%     2500.250000  27407.500000          2.000000\n",
      "50%     5001.500000  48172.000000          2.000000\n",
      "75%     7500.750000  77006.000000          6.000000\n",
      "max    10000.000000  99901.000000          6.000000\n",
      "<class 'pandas.core.frame.DataFrame'>\n",
      "RangeIndex: 9998 entries, 0 to 9997\n",
      "Data columns (total 19 columns):\n",
      "ORDER                    9998 non-null int64\n",
      "First Name               9998 non-null object\n",
      "Last Name                9998 non-null object\n",
      "Mailing Street           9998 non-null object\n",
      "Mailing City             9998 non-null object\n",
      "Mailing State            9998 non-null object\n",
      "Mailing Zip              9998 non-null int64\n",
      "Phone                    9998 non-null object\n",
      "Phone to Name            9998 non-null object\n",
      "Phone Is Valid           9998 non-null bool\n",
      "Phone Line Type          9998 non-null object\n",
      "Phone Is Prepaid         9998 non-null object\n",
      "Phone Is Commercial      9998 non-null object\n",
      "Address to Name          9998 non-null object\n",
      "Address Is Valid         9998 non-null bool\n",
      "Address Type             9998 non-null object\n",
      "Address Is Active        9998 non-null object\n",
      "Address Is Commercial    9998 non-null object\n",
      "Call Disposition         9998 non-null int64\n",
      "dtypes: bool(2), int64(3), object(14)\n",
      "memory usage: 1.3+ MB\n",
      "None\n"
     ]
    }
   ],
   "source": [
    "df = pd.read_csv(\"Lead_Verify_Response_Modified.csv\")\n",
    "print df.describe()\n",
    "print df.info()"
   ]
  },
  {
   "cell_type": "code",
   "execution_count": 52,
   "metadata": {},
   "outputs": [
    {
     "name": "stdout",
     "output_type": "stream",
     "text": [
      "Address Is Commercial\n",
      "FALSE                1669\n",
      "Not Valid Address     132\n",
      "Not in Database       173\n",
      "TRUE                 7966\n",
      "Unknow                 58\n",
      "Name: ORDER, dtype: int64\n"
     ]
    }
   ],
   "source": [
    "grp_phontype = df.groupby(['Address Is Commercial'])['ORDER'].count()\n",
    "print grp_phontype"
   ]
  },
  {
   "cell_type": "code",
   "execution_count": 76,
   "metadata": {},
   "outputs": [
    {
     "name": "stdout",
     "output_type": "stream",
     "text": [
      "Phone Line Type  Phone Is Commercial\n",
      "Fixed VOIP       FALSE                   343\n",
      "                 TRUE                   2679\n",
      "Landline         FALSE                   716\n",
      "                 TRUE                   3516\n",
      "Mobile           FALSE                   374\n",
      "                 TRUE                    124\n",
      "No Type          No Phone                 35\n",
      "Non-fixed VOIP   FALSE                   150\n",
      "                 TRUE                   2020\n",
      "Tollfree         TRUE                     41\n",
      "Name: ORDER, dtype: int64\n"
     ]
    }
   ],
   "source": [
    "grp_phontype = df.groupby(['Phone Line Type','Phone Is Commercial'])['ORDER'].count()\n",
    "print grp_phontype\n"
   ]
  },
  {
   "cell_type": "code",
   "execution_count": 53,
   "metadata": {},
   "outputs": [
    {
     "name": "stdout",
     "output_type": "stream",
     "text": [
      "Address Type          Address Is Commercial  Address Is Active\n",
      "Commercial mail drop  TRUE                   TRUE                   70\n",
      "Multi unit            FALSE                  FALSE                   7\n",
      "                                             TRUE                  144\n",
      "                      TRUE                   FALSE                  60\n",
      "                                             TRUE                 3566\n",
      "Not Valid Address     Not Valid Address      Not Valid Address     132\n",
      "Not in Database       Not in Database        Not in Database       173\n",
      "PO box                FALSE                  FALSE                  14\n",
      "                                             TRUE                  432\n",
      "                      TRUE                   FALSE                   1\n",
      "                                             TRUE                   41\n",
      "PO box throwback      FALSE                  FALSE                   1\n",
      "                                             TRUE                    1\n",
      "                      TRUE                   FALSE                  21\n",
      "                                             TRUE                   75\n",
      "Single unit           FALSE                  FALSE                   7\n",
      "                                             TRUE                 1052\n",
      "                      TRUE                   FALSE                  39\n",
      "                                             TRUE                 3931\n",
      "Unknown address type  FALSE                  TRUE                    3\n",
      "                                             Unknown                 8\n",
      "                      TRUE                   TRUE                   22\n",
      "                                             Unknown               140\n",
      "                      Unknow                 TRUE                   10\n",
      "                                             Unknown                48\n",
      "Name: ORDER, dtype: int64\n"
     ]
    }
   ],
   "source": [
    "grp_phontype = df.groupby(['Address Type','Address Is Commercial','Address Is Active'])['ORDER'].count()\n",
    "print grp_phontype\n",
    "#sns.countplot(x=)"
   ]
  },
  {
   "cell_type": "markdown",
   "metadata": {},
   "source": [
    "##### Upon importing data file I found there are many columns having missing values.\n",
    "##### Phone to Name: I have added value as not valid for records where there in Phone is Valid columns have False value.\n",
    "##### Phone Is valid: Has most of the entries as Valid = True so imported True value for all missing values\n",
    "##### Phone Line Type: I have added value as not valid for records where there in Phone is Valid columns have False value.\n",
    "##### Phone Is Prepaid: This column has most of the missing values. So created another category to replace Nan i.e Unknown type and for invalid phone added no phone category.  \n",
    "##### Phone Is Commercial: After doing some data exploration I have imported values to this column by looking for values in Phone Line type column so Filling in NaN's for variables with high coverage. For example all phone line type Landline are commercial so I will True for Phone is Commercial.\n",
    "##### Similarly I have imputed values for address field.\n"
   ]
  },
  {
   "cell_type": "markdown",
   "metadata": {},
   "source": [
    "# Data Exploration"
   ]
  },
  {
   "cell_type": "markdown",
   "metadata": {},
   "source": [
    "##### Below we see we CA has most 1 as Call Disposition"
   ]
  },
  {
   "cell_type": "code",
   "execution_count": 74,
   "metadata": {
    "scrolled": true
   },
   "outputs": [
    {
     "data": {
      "text/plain": [
       "(array([0, 1, 2, 3, 4, 5, 6, 7]), <a list of 8 Text xticklabel objects>)"
      ]
     },
     "execution_count": 74,
     "metadata": {},
     "output_type": "execute_result"
    },
    {
     "data": {
      "image/png": "[encoded data removed]",
      "text/plain": [
       "<matplotlib.figure.Figure at 0x26ab6748>"
      ]
     },
     "metadata": {},
     "output_type": "display_data"
    }
   ],
   "source": [
    "plt.figure(figsize=(12, 6))\n",
    "groupstate = df.groupby([\"Mailing State\",'Call Disposition'],sort=True)['ORDER'].count().reset_index()\n",
    "\n",
    "sns.barplot(x='Mailing State',y='ORDER',data=groupstate.sort_values('ORDER',ascending=False).head(20),hue='Call Disposition')\n",
    "plt.xticks(rotation='vertical')"
   ]
  },
  {
   "cell_type": "code",
   "execution_count": 37,
   "metadata": {},
   "outputs": [
    {
     "data": {
      "text/plain": [
       "(array([ 0,  1,  2,  3,  4,  5,  6,  7,  8,  9, 10, 11, 12, 13, 14, 15, 16,\n",
       "        17, 18, 19, 20, 21, 22, 23, 24, 25, 26, 27, 28, 29, 30, 31, 32, 33,\n",
       "        34, 35, 36, 37, 38, 39, 40, 41, 42, 43, 44, 45, 46, 47, 48, 49, 50]),\n",
       " <a list of 51 Text xticklabel objects>)"
      ]
     },
     "execution_count": 37,
     "metadata": {},
     "output_type": "execute_result"
    },
    {
     "data": {
      "image/png": "[encoded data removed]",
      "text/plain": [
       "<matplotlib.figure.Figure at 0x25f1e278>"
      ]
     },
     "metadata": {},
     "output_type": "display_data"
    }
   ],
   "source": [
    "plt.figure(figsize=(12, 6))\n",
    "sns.countplot(x='Mailing State', data = df)\n",
    "plt.xticks(rotation='vertical')"
   ]
  },
  {
   "cell_type": "markdown",
   "metadata": {},
   "source": [
    "##### Instead of using entire zip code I thought of using just first three digit of zip code get just the nearby area"
   ]
  },
  {
   "cell_type": "code",
   "execution_count": 51,
   "metadata": {},
   "outputs": [
    {
     "data": {
      "text/html": [
       "<div>\n",
       "<style>\n",
       "    .dataframe thead tr:only-child th {\n",
       "        text-align: right;\n",
       "    }\n",
       "\n",
       "    .dataframe thead th {\n",
       "        text-align: left;\n",
       "    }\n",
       "\n",
       "    .dataframe tbody tr th {\n",
       "        vertical-align: top;\n",
       "    }\n",
       "</style>\n",
       "<table border=\"1\" class=\"dataframe\">\n",
       "  <thead>\n",
       "    <tr style=\"text-align: right;\">\n",
       "      <th></th>\n",
       "      <th>ORDER</th>\n",
       "      <th>First Name</th>\n",
       "      <th>Last Name</th>\n",
       "      <th>Mailing Street</th>\n",
       "      <th>Mailing City</th>\n",
       "      <th>Mailing State</th>\n",
       "      <th>Mailing Zip</th>\n",
       "      <th>Phone</th>\n",
       "      <th>Phone to Name</th>\n",
       "      <th>Phone Is Valid</th>\n",
       "      <th>Phone Line Type</th>\n",
       "      <th>Phone Is Prepaid</th>\n",
       "      <th>Phone Is Commercial</th>\n",
       "      <th>Address to Name</th>\n",
       "      <th>Address Is Valid</th>\n",
       "      <th>Address Type</th>\n",
       "      <th>Address Is Active</th>\n",
       "      <th>Address Is Commercial</th>\n",
       "      <th>Call Disposition</th>\n",
       "      <th>New Zip</th>\n",
       "    </tr>\n",
       "  </thead>\n",
       "  <tbody>\n",
       "    <tr>\n",
       "      <th>0</th>\n",
       "      <td>1</td>\n",
       "      <td>Donald</td>\n",
       "      <td>Mathews</td>\n",
       "      <td>789 Cambridge Place</td>\n",
       "      <td>Hanover</td>\n",
       "      <td>MD</td>\n",
       "      <td>21076</td>\n",
       "      <td>860-452-9151</td>\n",
       "      <td>No match</td>\n",
       "      <td>True</td>\n",
       "      <td>Landline</td>\n",
       "      <td>FALSE</td>\n",
       "      <td>TRUE</td>\n",
       "      <td>No match</td>\n",
       "      <td>True</td>\n",
       "      <td>Multi unit</td>\n",
       "      <td>TRUE</td>\n",
       "      <td>TRUE</td>\n",
       "      <td>5</td>\n",
       "      <td>210</td>\n",
       "    </tr>\n",
       "  </tbody>\n",
       "</table>\n",
       "</div>"
      ],
      "text/plain": [
       "   ORDER First Name Last Name       Mailing Street Mailing City Mailing State  \\\n",
       "0      1     Donald   Mathews  789 Cambridge Place      Hanover            MD   \n",
       "\n",
       "   Mailing Zip         Phone Phone to Name  Phone Is Valid Phone Line Type  \\\n",
       "0        21076  860-452-9151      No match            True        Landline   \n",
       "\n",
       "  Phone Is Prepaid Phone Is Commercial Address to Name  Address Is Valid  \\\n",
       "0            FALSE                TRUE        No match              True   \n",
       "\n",
       "  Address Type Address Is Active Address Is Commercial  Call Disposition  \\\n",
       "0   Multi unit              TRUE                  TRUE                 5   \n",
       "\n",
       "  New Zip  \n",
       "0     210  "
      ]
     },
     "execution_count": 51,
     "metadata": {},
     "output_type": "execute_result"
    }
   ],
   "source": [
    "df['New Zip'] = map(lambda x : str(x)[:3],df['Mailing Zip'])\n",
    "df.head(1)"
   ]
  },
  {
   "cell_type": "markdown",
   "metadata": {},
   "source": [
    "###### After running model using feature 'Mailing City','Mailing State', 'Zip Code' it was not showing much of improvement in model but was increasing diamentions which was casuing increase in model traning time. So I have dropped those columns."
   ]
  },
  {
   "cell_type": "code",
   "execution_count": 107,
   "metadata": {
    "collapsed": true
   },
   "outputs": [],
   "source": [
    "new_df = df.drop(['First Name','Last Name','Mailing Street','Mailing Zip','Phone','Mailing City','Mailing State','Call Disposition','New Zip'],axis=1)\n",
    "target = df['Call Disposition']"
   ]
  },
  {
   "cell_type": "code",
   "execution_count": 16,
   "metadata": {},
   "outputs": [
    {
     "data": {
      "text/plain": [
       "<matplotlib.axes._subplots.AxesSubplot at 0x18583dd8>"
      ]
     },
     "execution_count": 16,
     "metadata": {},
     "output_type": "execute_result"
    },
    {
     "data": {
      "image/png": "[encoded data removed]",
      "text/plain": [
       "<matplotlib.figure.Figure at 0xeb7f9e8>"
      ]
     },
     "metadata": {},
     "output_type": "display_data"
    }
   ],
   "source": [
    "sns.countplot(x='Call Disposition',data=df)"
   ]
  },
  {
   "cell_type": "code",
   "execution_count": 18,
   "metadata": {},
   "outputs": [
    {
     "data": {
      "text/plain": [
       "<matplotlib.axes._subplots.AxesSubplot at 0x18da60f0>"
      ]
     },
     "execution_count": 18,
     "metadata": {},
     "output_type": "execute_result"
    },
    {
     "data": {
      "image/png": "[encoded data removed]",
      "text/plain": [
       "<matplotlib.figure.Figure at 0x18c6e8d0>"
      ]
     },
     "metadata": {},
     "output_type": "display_data"
    }
   ],
   "source": [
    "sns.countplot('Phone to Name',data=df)"
   ]
  },
  {
   "cell_type": "code",
   "execution_count": 108,
   "metadata": {},
   "outputs": [
    {
     "name": "stdout",
     "output_type": "stream",
     "text": [
      "<class 'pandas.core.frame.DataFrame'>\n",
      "RangeIndex: 9998 entries, 0 to 9997\n",
      "Data columns (total 11 columns):\n",
      "ORDER                    9998 non-null int64\n",
      "Phone to Name            9998 non-null object\n",
      "Phone Is Valid           9998 non-null bool\n",
      "Phone Line Type          9998 non-null object\n",
      "Phone Is Prepaid         9998 non-null object\n",
      "Phone Is Commercial      9998 non-null object\n",
      "Address to Name          9998 non-null object\n",
      "Address Is Valid         9998 non-null bool\n",
      "Address Type             9998 non-null object\n",
      "Address Is Active        9998 non-null object\n",
      "Address Is Commercial    9998 non-null object\n",
      "dtypes: bool(2), int64(1), object(8)\n",
      "memory usage: 722.6+ KB\n"
     ]
    }
   ],
   "source": [
    "new_df.info()"
   ]
  },
  {
   "cell_type": "markdown",
   "metadata": {},
   "source": [
    "##### Most of the data in this dataset is categorical data. So here I am using one-hot encoding to get dummy values for all the categoriacal columns. As there are not any ordinal catergorical feature get_dummies should sufficient for handling all the features"
   ]
  },
  {
   "cell_type": "code",
   "execution_count": 109,
   "metadata": {},
   "outputs": [
    {
     "data": {
      "text/html": [
       "<div>\n",
       "<style>\n",
       "    .dataframe thead tr:only-child th {\n",
       "        text-align: right;\n",
       "    }\n",
       "\n",
       "    .dataframe thead th {\n",
       "        text-align: left;\n",
       "    }\n",
       "\n",
       "    .dataframe tbody tr th {\n",
       "        vertical-align: top;\n",
       "    }\n",
       "</style>\n",
       "<table border=\"1\" class=\"dataframe\">\n",
       "  <thead>\n",
       "    <tr style=\"text-align: right;\">\n",
       "      <th></th>\n",
       "      <th>Phone Is Valid</th>\n",
       "      <th>Address Is Valid</th>\n",
       "      <th>Phone to Name_Match</th>\n",
       "      <th>Phone to Name_No match</th>\n",
       "      <th>Phone to Name_No name found</th>\n",
       "      <th>Phone to Name_Not Valid</th>\n",
       "      <th>Phone Line Type_Fixed VOIP</th>\n",
       "      <th>Phone Line Type_Landline</th>\n",
       "      <th>Phone Line Type_Mobile</th>\n",
       "      <th>Phone Line Type_No Type</th>\n",
       "      <th>...</th>\n",
       "      <th>Address Is Active_FALSE</th>\n",
       "      <th>Address Is Active_Not Valid Address</th>\n",
       "      <th>Address Is Active_Not in Database</th>\n",
       "      <th>Address Is Active_TRUE</th>\n",
       "      <th>Address Is Active_Unknown</th>\n",
       "      <th>Address Is Commercial_FALSE</th>\n",
       "      <th>Address Is Commercial_Not Valid Address</th>\n",
       "      <th>Address Is Commercial_Not in Database</th>\n",
       "      <th>Address Is Commercial_TRUE</th>\n",
       "      <th>Address Is Commercial_Unknow</th>\n",
       "    </tr>\n",
       "  </thead>\n",
       "  <tbody>\n",
       "    <tr>\n",
       "      <th>0</th>\n",
       "      <td>1</td>\n",
       "      <td>1</td>\n",
       "      <td>0</td>\n",
       "      <td>1</td>\n",
       "      <td>0</td>\n",
       "      <td>0</td>\n",
       "      <td>0</td>\n",
       "      <td>1</td>\n",
       "      <td>0</td>\n",
       "      <td>0</td>\n",
       "      <td>...</td>\n",
       "      <td>0</td>\n",
       "      <td>0</td>\n",
       "      <td>0</td>\n",
       "      <td>1</td>\n",
       "      <td>0</td>\n",
       "      <td>0</td>\n",
       "      <td>0</td>\n",
       "      <td>0</td>\n",
       "      <td>1</td>\n",
       "      <td>0</td>\n",
       "    </tr>\n",
       "    <tr>\n",
       "      <th>1</th>\n",
       "      <td>1</td>\n",
       "      <td>1</td>\n",
       "      <td>0</td>\n",
       "      <td>1</td>\n",
       "      <td>0</td>\n",
       "      <td>0</td>\n",
       "      <td>0</td>\n",
       "      <td>1</td>\n",
       "      <td>0</td>\n",
       "      <td>0</td>\n",
       "      <td>...</td>\n",
       "      <td>0</td>\n",
       "      <td>0</td>\n",
       "      <td>0</td>\n",
       "      <td>1</td>\n",
       "      <td>0</td>\n",
       "      <td>0</td>\n",
       "      <td>0</td>\n",
       "      <td>0</td>\n",
       "      <td>1</td>\n",
       "      <td>0</td>\n",
       "    </tr>\n",
       "    <tr>\n",
       "      <th>2</th>\n",
       "      <td>1</td>\n",
       "      <td>1</td>\n",
       "      <td>1</td>\n",
       "      <td>0</td>\n",
       "      <td>0</td>\n",
       "      <td>0</td>\n",
       "      <td>1</td>\n",
       "      <td>0</td>\n",
       "      <td>0</td>\n",
       "      <td>0</td>\n",
       "      <td>...</td>\n",
       "      <td>0</td>\n",
       "      <td>0</td>\n",
       "      <td>0</td>\n",
       "      <td>0</td>\n",
       "      <td>1</td>\n",
       "      <td>0</td>\n",
       "      <td>0</td>\n",
       "      <td>0</td>\n",
       "      <td>1</td>\n",
       "      <td>0</td>\n",
       "    </tr>\n",
       "    <tr>\n",
       "      <th>3</th>\n",
       "      <td>1</td>\n",
       "      <td>1</td>\n",
       "      <td>0</td>\n",
       "      <td>1</td>\n",
       "      <td>0</td>\n",
       "      <td>0</td>\n",
       "      <td>1</td>\n",
       "      <td>0</td>\n",
       "      <td>0</td>\n",
       "      <td>0</td>\n",
       "      <td>...</td>\n",
       "      <td>0</td>\n",
       "      <td>0</td>\n",
       "      <td>0</td>\n",
       "      <td>1</td>\n",
       "      <td>0</td>\n",
       "      <td>1</td>\n",
       "      <td>0</td>\n",
       "      <td>0</td>\n",
       "      <td>0</td>\n",
       "      <td>0</td>\n",
       "    </tr>\n",
       "    <tr>\n",
       "      <th>4</th>\n",
       "      <td>1</td>\n",
       "      <td>1</td>\n",
       "      <td>0</td>\n",
       "      <td>1</td>\n",
       "      <td>0</td>\n",
       "      <td>0</td>\n",
       "      <td>1</td>\n",
       "      <td>0</td>\n",
       "      <td>0</td>\n",
       "      <td>0</td>\n",
       "      <td>...</td>\n",
       "      <td>0</td>\n",
       "      <td>0</td>\n",
       "      <td>0</td>\n",
       "      <td>1</td>\n",
       "      <td>0</td>\n",
       "      <td>0</td>\n",
       "      <td>0</td>\n",
       "      <td>0</td>\n",
       "      <td>1</td>\n",
       "      <td>0</td>\n",
       "    </tr>\n",
       "  </tbody>\n",
       "</table>\n",
       "<p>5 rows × 42 columns</p>\n",
       "</div>"
      ],
      "text/plain": [
       "   Phone Is Valid  Address Is Valid  Phone to Name_Match  \\\n",
       "0               1                 1                    0   \n",
       "1               1                 1                    0   \n",
       "2               1                 1                    1   \n",
       "3               1                 1                    0   \n",
       "4               1                 1                    0   \n",
       "\n",
       "   Phone to Name_No match  Phone to Name_No name found  \\\n",
       "0                       1                            0   \n",
       "1                       1                            0   \n",
       "2                       0                            0   \n",
       "3                       1                            0   \n",
       "4                       1                            0   \n",
       "\n",
       "   Phone to Name_Not Valid  Phone Line Type_Fixed VOIP  \\\n",
       "0                        0                           0   \n",
       "1                        0                           0   \n",
       "2                        0                           1   \n",
       "3                        0                           1   \n",
       "4                        0                           1   \n",
       "\n",
       "   Phone Line Type_Landline  Phone Line Type_Mobile  Phone Line Type_No Type  \\\n",
       "0                         1                       0                        0   \n",
       "1                         1                       0                        0   \n",
       "2                         0                       0                        0   \n",
       "3                         0                       0                        0   \n",
       "4                         0                       0                        0   \n",
       "\n",
       "               ...               Address Is Active_FALSE  \\\n",
       "0              ...                                     0   \n",
       "1              ...                                     0   \n",
       "2              ...                                     0   \n",
       "3              ...                                     0   \n",
       "4              ...                                     0   \n",
       "\n",
       "   Address Is Active_Not Valid Address  Address Is Active_Not in Database  \\\n",
       "0                                    0                                  0   \n",
       "1                                    0                                  0   \n",
       "2                                    0                                  0   \n",
       "3                                    0                                  0   \n",
       "4                                    0                                  0   \n",
       "\n",
       "   Address Is Active_TRUE  Address Is Active_Unknown  \\\n",
       "0                       1                          0   \n",
       "1                       1                          0   \n",
       "2                       0                          1   \n",
       "3                       1                          0   \n",
       "4                       1                          0   \n",
       "\n",
       "   Address Is Commercial_FALSE  Address Is Commercial_Not Valid Address  \\\n",
       "0                            0                                        0   \n",
       "1                            0                                        0   \n",
       "2                            0                                        0   \n",
       "3                            1                                        0   \n",
       "4                            0                                        0   \n",
       "\n",
       "   Address Is Commercial_Not in Database  Address Is Commercial_TRUE  \\\n",
       "0                                      0                           1   \n",
       "1                                      0                           1   \n",
       "2                                      0                           1   \n",
       "3                                      0                           0   \n",
       "4                                      0                           1   \n",
       "\n",
       "   Address Is Commercial_Unknow  \n",
       "0                             0  \n",
       "1                             0  \n",
       "2                             0  \n",
       "3                             0  \n",
       "4                             0  \n",
       "\n",
       "[5 rows x 42 columns]"
      ]
     },
     "execution_count": 109,
     "metadata": {},
     "output_type": "execute_result"
    }
   ],
   "source": [
    "from sklearn.preprocessing import LabelEncoder\n",
    "number = LabelEncoder()\n",
    "cat_col = [ 'Mailing State','Phone to Name','Phone Is Valid', 'Phone Line Type', \n",
    "                                   'Phone Is Prepaid','Phone Is Commercial', 'Address to Name', 'Address Is Valid','Address Type', \n",
    "                               'Address Is Active', 'Address Is Commercial']\n",
    "#for col in cat_col:\n",
    "#    new_df[col] = pd.get_dummies(new_df[col])\n",
    "new_df = pd.get_dummies(new_df)\n",
    "new_df[['Phone Is Valid','Address Is Valid']] = new_df[['Phone Is Valid','Address Is Valid']].astype(int)\n",
    "new_df = new_df.drop(['ORDER'],axis=1)\n",
    "new_df.head()"
   ]
  },
  {
   "cell_type": "code",
   "execution_count": 32,
   "metadata": {
    "scrolled": true
   },
   "outputs": [
    {
     "name": "stdout",
     "output_type": "stream",
     "text": [
      "Index([u'Phone Is Valid', u'Address Is Valid', u'Phone to Name_Match',\n",
      "       u'Phone to Name_No match', u'Phone to Name_No name found',\n",
      "       u'Phone to Name_Not Valid', u'Phone Line Type_Fixed VOIP',\n",
      "       u'Phone Line Type_Landline', u'Phone Line Type_Mobile',\n",
      "       u'Phone Line Type_No Type', u'Phone Line Type_Non-fixed VOIP',\n",
      "       u'Phone Line Type_Tollfree', u'Phone Is Prepaid_FALSE',\n",
      "       u'Phone Is Prepaid_No Phone', u'Phone Is Prepaid_TRUE',\n",
      "       u'Phone Is Prepaid_Unknown', u'Phone Is Commercial_FALSE',\n",
      "       u'Phone Is Commercial_No Phone', u'Phone Is Commercial_TRUE',\n",
      "       u'Address to Name_Match', u'Address to Name_No match',\n",
      "       u'Address to Name_No name found', u'Address to Name_Not Valid Address',\n",
      "       u'Address to Name_Not in Database',\n",
      "       u'Address Type_Commercial mail drop', u'Address Type_Multi unit',\n",
      "       u'Address Type_Not Valid Address', u'Address Type_Not in Database',\n",
      "       u'Address Type_PO box', u'Address Type_PO box throwback',\n",
      "       u'Address Type_Single unit', u'Address Type_Unknown address type',\n",
      "       u'Address Is Active_FALSE', u'Address Is Active_Not Valid Address',\n",
      "       u'Address Is Active_Not in Database', u'Address Is Active_TRUE',\n",
      "       u'Address Is Active_Unknown', u'Address Is Commercial_FALSE',\n",
      "       u'Address Is Commercial_Not Valid Address',\n",
      "       u'Address Is Commercial_Not in Database', u'Address Is Commercial_TRUE',\n",
      "       u'Address Is Commercial_Unknow'],\n",
      "      dtype='object')\n"
     ]
    }
   ],
   "source": [
    "print new_df.columns"
   ]
  },
  {
   "cell_type": "markdown",
   "metadata": {},
   "source": [
    "##### I tried using multiclass model using all deposition classes. But as we need to concentrate only on call deposition category 1 I converted multiclass problem into binary classification problem and labled all other depositions as 0. "
   ]
  },
  {
   "cell_type": "code",
   "execution_count": 110,
   "metadata": {},
   "outputs": [
    {
     "data": {
      "text/plain": [
       "9998"
      ]
     },
     "execution_count": 110,
     "metadata": {},
     "output_type": "execute_result"
    }
   ],
   "source": [
    "target = target.map({1:1, 2:0, 3:0, 4:0, 5:0, 6:0})\n",
    "target.count()"
   ]
  },
  {
   "cell_type": "code",
   "execution_count": 111,
   "metadata": {},
   "outputs": [
    {
     "name": "stdout",
     "output_type": "stream",
     "text": [
      "Training set has 7998 samples.\n",
      "Testing set has 2000 samples.\n"
     ]
    }
   ],
   "source": [
    "from sklearn.cross_validation import train_test_split\n",
    "\n",
    "# Split the 'features' and 'income' data into training and testing sets\n",
    "X_train, X_test, y_train, y_test = train_test_split(new_df, \n",
    "                                                    target, \n",
    "                                                    test_size = 0.2, \n",
    "                                                    random_state = 0)\n",
    "\n",
    "# Show the results of the split\n",
    "print \"Training set has {} samples.\".format(X_train.shape[0])\n",
    "print \"Testing set has {} samples.\".format(X_test.shape[0])"
   ]
  },
  {
   "cell_type": "markdown",
   "metadata": {},
   "source": [
    "### Naive predictor considering model predicated call deposition as 1 for all the data point."
   ]
  },
  {
   "cell_type": "code",
   "execution_count": 112,
   "metadata": {},
   "outputs": [
    {
     "name": "stdout",
     "output_type": "stream",
     "text": [
      "2306 7692\n",
      "Naive Predictor: [Accuracy score: 0.2306, F-score: 0.2726]\n"
     ]
    }
   ],
   "source": [
    "TP = np.sum(target) # Counting the ones as this is the naive case. \n",
    "\n",
    "FP = target.count() - TP # Specific to the naive case\n",
    "\n",
    "TN = 0 # No predicted negatives in the naive case\n",
    "FN = 0 # No predicted negatives in the naive case\n",
    "print TP,FP\n",
    "# TODO: Calculate accuracy, precision and recall\n",
    "\n",
    "accuracy = float(TP)/float(target.count())\n",
    "recall = 1\n",
    "precision = accuracy\n",
    "beta= 0.5\n",
    "\n",
    "\n",
    "# The formula for fbeta score can be written as (1 + beta**2) * (precision * recall) / ((beta**2 * precision) + recall)\n",
    "fscore = (1 + 0.25) * (precision * recall) / ((0.25 * precision) + recall)\n",
    "\n",
    "# Print the results \n",
    "print \"Naive Predictor: [Accuracy score: {:.4f}, F-score: {:.4f}]\".format(accuracy, fscore)"
   ]
  },
  {
   "cell_type": "markdown",
   "metadata": {},
   "source": [
    "##### Building a train predictor to compare multiple models\n",
    "### Here metrics that I am going to use to compare different models is F1 score, accuracy "
   ]
  },
  {
   "cell_type": "code",
   "execution_count": 124,
   "metadata": {
    "collapsed": true
   },
   "outputs": [],
   "source": [
    "from sklearn.metrics import fbeta_score\n",
    "from sklearn.metrics import accuracy_score\n",
    "from sklearn.metrics import make_scorer, precision_recall_curve,confusion_matrix\n",
    "from sklearn import cross_validation, metrics\n",
    "import time\n",
    "def train_predict(learner, sample_size, X_train, y_train, X_test, y_test): \n",
    "\n",
    "    results = {}\n",
    "    \n",
    "  \n",
    "    start = time.time()\n",
    "    learner = learner.fit(X_train[:sample_size], y_train[:sample_size])\n",
    "    end = time.time()\n",
    "    \n",
    "    results['train_time'] = end - start\n",
    "    \n",
    "    start = time.time()\n",
    "    predictions_test = learner.predict(X_test)\n",
    "    predictions_train = learner.predict(X_train)\n",
    "    end = time.time()\n",
    "    \n",
    "    results['pred_time'] = end - start\n",
    "    results['acc_train'] = accuracy_score(y_train, predictions_train)\n",
    "        \n",
    "    results['acc_test'] = accuracy_score(y_test, predictions_test)\n",
    "    \n",
    "    results['f_train'] = fbeta_score(y_train, predictions_train, 0.5,average='weighted')\n",
    "        \n",
    "    results['f_test'] = fbeta_score(y_test, predictions_test, 0.5,average='weighted')\n",
    "    matrix =  confusion_matrix(y_test, predictions_test)\n",
    "    TP =  matrix[0][0]\n",
    "    FP = matrix[0][1]  # Specific to the naive case\n",
    "\n",
    "    TN = matrix[1][1] # No predicted negatives in the naive case\n",
    "    FN = matrix[1][0] # No predicted negatives in the naive case\n",
    "\n",
    "    # TODO: Calculate accuracy, precision and recall\n",
    "    accuracy = metrics.accuracy_score(y_test, predictions_test)\n",
    "    recall = float(TP )/  float(TP + FN)\n",
    "    precision = float(TP )/ float(TP + FP)\n",
    "    print \"precision: {}, recall: {}\".format(recall, precision) \n",
    "    beta = 0.5\n",
    "    \n",
    "    # TODO: Calculate F-score using the formula above for beta = 0.5 and correct values for precision and recall.\n",
    "    # HINT: The formula above can be written as (1 + beta**2) * (precision * recall) / ((beta**2 * precision) + recall)\n",
    "    fscore = (1 + 0.25) * (precision * recall) / ((0.25 * precision) + recall)\n",
    "    print \"Test fscore with beta 0.5 : \", fscore   \n",
    "    print \"{} trained on {} samples.\".format(learner.__class__.__name__, sample_size)\n",
    "    dataframe = pd.DataFrame(predictions_train,y_train)  \n",
    "    dataframe.to_csv(learner.__class__.__name__+\".txt\")\n",
    "    # Return the results\n",
    "    return results"
   ]
  },
  {
   "cell_type": "code",
   "execution_count": 155,
   "metadata": {},
   "outputs": [
    {
     "name": "stdout",
     "output_type": "stream",
     "text": [
      "precision: 0.810554803789, recall: 0.765984654731\n",
      "Test fscore with beta 0.5 :  0.774502198086\n",
      "LogisticRegressionCV trained on 79 samples.\n",
      "precision: 0.832642916321, recall: 0.642583120205\n",
      "Test fscore with beta 0.5 :  0.673321720488\n",
      "LogisticRegressionCV trained on 799 samples.\n",
      "precision: 0.865142857143, recall: 0.484015345269\n",
      "Test fscore with beta 0.5 :  0.53078109662\n",
      "LogisticRegressionCV trained on 7998 samples.\n",
      "precision: 0.798938679245, recall: 0.866368286445\n",
      "Test fscore with beta 0.5 :  0.851986921529\n",
      "KNeighborsClassifier trained on 79 samples.\n",
      "precision: 0.793868921776, recall: 0.960358056266\n",
      "Test fscore with beta 0.5 :  0.921698576338\n",
      "KNeighborsClassifier trained on 799 samples.\n",
      "precision: 0.797297297297, recall: 0.943094629156\n",
      "Test fscore with beta 0.5 :  0.909819886504\n",
      "KNeighborsClassifier trained on 7998 samples.\n",
      "precision: 0.787812840044, recall: 0.925831202046\n",
      "Test fscore with beta 0.5 :  0.89448974549\n",
      "RandomForestClassifier trained on 79 samples.\n",
      "precision: 0.797956867196, recall: 0.898976982097\n",
      "Test fscore with beta 0.5 :  0.876777251185\n",
      "RandomForestClassifier trained on 799 samples.\n",
      "precision: 0.793700787402, recall: 0.966751918159\n",
      "Test fscore with beta 0.5 :  0.926357064085\n",
      "RandomForestClassifier trained on 7998 samples.\n"
     ]
    },
    {
     "data": {
      "image/png": "[encoded data removed]",
      "text/plain": [
       "<matplotlib.figure.Figure at 0x206b9d68>"
      ]
     },
     "metadata": {},
     "output_type": "display_data"
    }
   ],
   "source": [
    "from sklearn.ensemble import RandomForestClassifier\n",
    "from sklearn import linear_model\n",
    "from sklearn.neighbors import KNeighborsClassifier\n",
    "from sklearn.ensemble import AdaBoostClassifier\n",
    "from sklearn.tree import DecisionTreeClassifier\n",
    "from sklearn import svm\n",
    "# TODO: Initialize the three models\n",
    "clf_A =  linear_model.LogisticRegressionCV(class_weight='balanced',multi_class='multinomial',solver='lbfgs',random_state=40)\n",
    "clf_B = KNeighborsClassifier()\n",
    "clf_C = RandomForestClassifier(random_state=40)\n",
    "#clf_D = RandomForestClassifier(random_state = 40)\n",
    "\n",
    "samples_100 = len(y_train)\n",
    "samples_10 = int(samples_100 * 0.1)\n",
    "samples_1 = int(samples_100 * 0.01)\n",
    "\n",
    "# Collect results on the learners\n",
    "results = {}\n",
    "for clf in [clf_A, clf_B, clf_C]:\n",
    "    clf_name = clf.__class__.__name__\n",
    "    results[clf_name] = {}\n",
    "    for i, samples in enumerate([samples_1,samples_10,samples_100]):\n",
    "        results[clf_name][i]=train_predict(clf, samples, X_train, y_train, X_test, y_test)\n",
    "\n",
    "vs.evaluate(results, accuracy, fscore)"
   ]
  },
  {
   "cell_type": "markdown",
   "metadata": {},
   "source": [
    "####  Looking at the graph I can say Randomforest is performing well on testing set. It outperfrom other two model in all the sample cases. With High accuracy and high FScore I choose Randomforest as best model. Also if you see at training time requried out of three models KNeighborsClassifier take highest time so training time wise also Randomforest is performing better."
   ]
  },
  {
   "cell_type": "markdown",
   "metadata": {},
   "source": [
    "### Implementation: Model Tuning\n",
    "##### Fine tune the chosen model. Use grid search (GridSearchCV) with at least one important parameter tuned with at least 3 different values."
   ]
  },
  {
   "cell_type": "code",
   "execution_count": 158,
   "metadata": {},
   "outputs": [
    {
     "name": "stdout",
     "output_type": "stream",
     "text": [
      "\n",
      "Optimized Model\n",
      "------\n",
      "Final accuracy score on the testing data: 0.7870\n",
      "Final F-score on the testing data: 0.7107\n"
     ]
    }
   ],
   "source": [
    "# Import 'GridSearchCV', 'make_scorer', and any other necessary libraries\n",
    "from sklearn.grid_search import GridSearchCV\n",
    "from sklearn.metrics import make_scorer\n",
    "\n",
    "clf = RandomForestClassifier(n_estimators=200,max_depth=15,min_samples_split=117,min_samples_leaf=3,max_leaf_nodes=52)\n",
    "\n",
    "k = np.arange(20)+1\n",
    "parameters = {\n",
    "              \"max_leaf_nodes\": np.arange(2,60,5),\n",
    "              #\"n_estimators\": np.arange(2, 300, 2),\n",
    "              #\"max_depth\": np.arange(1, 28, 1),\n",
    "              #\"min_samples_split\": np.arange(2,150,1),\n",
    "              #\"min_samples_leaf\": np.arange(1,60,1),\n",
    "              #\"max_leaf_nodes\": np.arange(2,60,1),\n",
    "              #\"min_weight_fraction_leaf\": np.arange(0.1,0.4, 0.1)}\n",
    "             }\n",
    "\n",
    "#  Make an fbeta_score scoring object using make_scorer()\n",
    "scorer = make_scorer(fbeta_score, beta=0.5,average='weighted')\n",
    "\n",
    "#  Perform grid search on the classifier using 'scorer' as the scoring method using GridSearchCV()\n",
    "grid_obj = GridSearchCV(estimator=clf,param_grid=parameters,scoring=scorer,cv=10)\n",
    "\n",
    "#  Fit the grid search object to the training data and find the optimal parameters using fit()\n",
    "grid_fit = clf.fit(X_train,y_train)\n",
    "\n",
    "# Get the estimator\n",
    "best_clf = grid_fit.best_estimator_\n",
    "\n",
    "# Make predictions using the unoptimized and model\n",
    "predictions = (clf.fit(X_train, y_train)).predict(X_test)\n",
    "best_predictions = best_clf.predict(X_test)\n",
    "\n",
    "# Report the before-and-afterscores\n",
    "\n",
    "print \"\\nOptimized Model\\n------\"\n",
    "print \"Final accuracy score on the testing data: {:.4f}\".format(accuracy_score(y_test, best_predictions))\n",
    "print \"Final F-score on the testing data: {:.4f}\".format(fbeta_score(y_test, best_predictions, beta = 0.5,average='weighted'))"
   ]
  },
  {
   "cell_type": "markdown",
   "metadata": {},
   "source": [
    "##### After tunning hyper parament I have found that tunning does not add much accuracy or improve Fscore. I believe as we dont have enough data to tune on we are not seeing improvement in scores"
   ]
  },
  {
   "cell_type": "markdown",
   "metadata": {},
   "source": [
    "|     Metric     | Benchmark Predictor | Unoptimized Model | Optimized Model |\n",
    "| :------------: | :-----------------: | :---------------: | :-------------: | \n",
    "| Accuracy Score |      0.2306         |     0.7774        |   0.7875        |\n",
    "| F-score        |      0.2716         |     0.7206        |   0.7107        |\n"
   ]
  },
  {
   "cell_type": "code",
   "execution_count": 162,
   "metadata": {},
   "outputs": [
    {
     "data": {
      "image/png": "[encoded data removed]",
      "text/plain": [
       "<matplotlib.figure.Figure at 0x274f4320>"
      ]
     },
     "metadata": {},
     "output_type": "display_data"
    }
   ],
   "source": [
    "probabilities = best_clf.predict_proba(X_test)[:, 1]\n",
    "fpr, tpr, threshold = metrics.roc_curve(y_test, probabilities)\n",
    "roc_auc = metrics.auc(fpr, tpr)\n",
    "\n",
    "import matplotlib.pyplot as plt\n",
    "plt.title('Receiver Operating Characteristic')\n",
    "plt.plot(fpr, tpr, 'b', label = 'AUC = %0.2f' % roc_auc)\n",
    "plt.legend(loc = 'lower right')\n",
    "plt.plot([0, 1], [0, 1],'r--')\n",
    "plt.xlim([0, 1])\n",
    "plt.ylim([0, 1])\n",
    "plt.ylabel('True Positive Rate')\n",
    "plt.xlabel('False Positive Rate')\n",
    "plt.show()"
   ]
  },
  {
   "cell_type": "markdown",
   "metadata": {},
   "source": [
    "### Finding Important features: "
   ]
  },
  {
   "cell_type": "code",
   "execution_count": 161,
   "metadata": {},
   "outputs": [
    {
     "name": "stdout",
     "output_type": "stream",
     "text": [
      "Feature ranking:\n",
      "1. feature Phone to Name_Match (0.185677)\n",
      "2. feature Phone to Name_No match (0.146302)\n",
      "3. feature Phone Line Type_Mobile (0.077793)\n",
      "4. feature Address Is Active_Not in Database (0.047420)\n",
      "5. feature Address Is Commercial_Not in Database (0.046964)\n",
      "6. feature Phone Line Type_Fixed VOIP (0.042366)\n",
      "7. feature Address Type_Not in Database (0.040750)\n",
      "8. feature Address to Name_Not in Database (0.033174)\n",
      "9. feature Phone Line Type_Landline (0.031588)\n",
      "10. feature Phone Is Prepaid_FALSE (0.030749)\n",
      "11. feature Address to Name_No match (0.026052)\n",
      "12. feature Phone Is Commercial_TRUE (0.025486)\n",
      "13. feature Phone Is Commercial_FALSE (0.023232)\n",
      "14. feature Phone Is Prepaid_Unknown (0.023224)\n",
      "15. feature Phone Line Type_Non-fixed VOIP (0.022676)\n",
      "16. feature Address to Name_Match (0.022633)\n",
      "17. feature Address Type_Multi unit (0.021950)\n",
      "18. feature Phone to Name_No name found (0.017628)\n",
      "19. feature Address Type_PO box (0.016194)\n",
      "20. feature Address Is Commercial_TRUE (0.015679)\n",
      "21. feature Address Type_Single unit (0.015098)\n",
      "22. feature Address Is Commercial_FALSE (0.014880)\n",
      "23. feature Address Is Active_TRUE (0.012624)\n",
      "24. feature Address to Name_No name found (0.006803)\n",
      "25. feature Address Type_PO box throwback (0.006743)\n",
      "26. feature Address Is Active_Unknown (0.005770)\n",
      "27. feature Address Is Active_FALSE (0.004841)\n",
      "28. feature Phone Is Prepaid_TRUE (0.004806)\n",
      "29. feature Address Type_Unknown address type (0.004297)\n",
      "30. feature Address Type_Commercial mail drop (0.002972)\n",
      "31. feature Address Is Commercial_Not Valid Address (0.002686)\n",
      "32. feature Phone Line Type_Tollfree (0.002586)\n",
      "33. feature Address to Name_Not Valid Address (0.002263)\n",
      "34. feature Address Is Active_Not Valid Address (0.002195)\n",
      "35. feature Address Type_Not Valid Address (0.002154)\n",
      "36. feature Phone Is Valid (0.001834)\n",
      "37. feature Address Is Valid (0.001784)\n",
      "38. feature Phone Is Prepaid_No Phone (0.001706)\n",
      "39. feature Phone to Name_Not Valid (0.001667)\n",
      "40. feature Address Is Commercial_Unknow (0.001590)\n",
      "41. feature Phone Line Type_No Type (0.001583)\n",
      "42. feature Phone Is Commercial_No Phone (0.001582)\n"
     ]
    },
    {
     "data": {
      "image/png": "[encoded data removed]",
      "text/plain": [
       "<matplotlib.figure.Figure at 0x13a32a58>"
      ]
     },
     "metadata": {},
     "output_type": "display_data"
    }
   ],
   "source": [
    "\n",
    "importances = best_clf.feature_importances_\n",
    "std = np.std([tree.feature_importances_ for tree in best_clf.estimators_],\n",
    "             axis=0)\n",
    "indices = np.argsort(importances)[::-1]\n",
    "probabilities = best_clf.predict_proba(X_test)[:, 1]\n",
    "print(\"Feature ranking:\")\n",
    "\n",
    "for f in range(X_train.shape[1]):\n",
    "    print(\"%d. feature %s (%f)\" % (f + 1, columns[indices[f]], importances[indices[f]]))\n",
    "\n",
    "# Plot the feature importances of the forest\n",
    "plt.figure()\n",
    "plt.title(\"Feature importances\")\n",
    "plt.bar(range(X_train.shape[1]), importances[indices],\n",
    "       color=\"r\", yerr=std[indices], align=\"center\")\n",
    "plt.xticks(range(X_train.shape[1]), indices)\n",
    "plt.xlim([-1, X_train.shape[1]])\n",
    "plt.xticks(rotation='vertical')\n",
    "plt.show()"
   ]
  },
  {
   "cell_type": "markdown",
   "metadata": {},
   "source": [
    "##### Below are important features which helps decide if call deposition is going to be 1 or not.\n",
    "##### 1. feature Phone to Name_Match (0.185677)\n",
    "##### 2. feature Phone to Name_No match (0.146302)\n",
    "##### 3. feature Phone Line Type_Mobile (0.077793)\n",
    "##### 4. feature Address Is Active_Not in Database (0.047420)\n",
    "##### 5. feature Address Is Commercial_Not in Database (0.046964)\n",
    "##### 6. feature Phone Line Type_Fixed VOIP (0.042366)\n",
    "##### 7. feature Address Type_Not in Database (0.040750)\n",
    "##### 8. feature Address to Name_Not in Database (0.033174)\n",
    "##### 9. feature Phone Line Type_Landline (0.031588)\n",
    "##### 10. feature Phone Is Prepaid_FALSE (0.030749)\n",
    "\n",
    "\n",
    "##### So I belive we have found important features which decide if call deposition is going to be 1 or not. But the data is not sufficent to make predications. We need more data to relia on model prediction. "
   ]
  }
 ],
 "metadata": {
  "kernelspec": {
   "display_name": "Python 2",
   "language": "python",
   "name": "python2"
  },
  "language_info": {
   "codemirror_mode": {
    "name": "ipython",
    "version": 2
   },
   "file_extension": ".py",
   "mimetype": "text/x-python",
   "name": "python",
   "nbconvert_exporter": "python",
   "pygments_lexer": "ipython2",
   "version": "2.7.14"
  }
 },
 "nbformat": 4,
 "nbformat_minor": 2
}
